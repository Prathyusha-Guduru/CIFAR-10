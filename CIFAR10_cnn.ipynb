{
  "nbformat": 4,
  "nbformat_minor": 0,
  "metadata": {
    "colab": {
      "name": "CIFAR10-cnn",
      "provenance": []
    },
    "kernelspec": {
      "name": "python3",
      "display_name": "Python 3"
    }
  },
  "cells": [
    {
      "cell_type": "code",
      "metadata": {
        "id": "NYVrZPF_lEEg",
        "colab_type": "code",
        "colab": {}
      },
      "source": [
        "from keras.datasets import cifar10"
      ],
      "execution_count": 41,
      "outputs": []
    },
    {
      "cell_type": "code",
      "metadata": {
        "id": "42g8bTyvx0q-",
        "colab_type": "code",
        "colab": {}
      },
      "source": [
        "(X_train,y_train),(x_test,y_test) = cifar10.load_data()"
      ],
      "execution_count": 42,
      "outputs": []
    },
    {
      "cell_type": "code",
      "metadata": {
        "id": "Ryp-pOw2yKiV",
        "colab_type": "code",
        "colab": {}
      },
      "source": [
        "import matplotlib.pyplot as plt\n",
        "%matplotlib inline"
      ],
      "execution_count": 43,
      "outputs": []
    },
    {
      "cell_type": "code",
      "metadata": {
        "id": "sDruA62pyRDW",
        "colab_type": "code",
        "colab": {
          "base_uri": "https://localhost:8080/",
          "height": 84
        },
        "outputId": "9ad87804-58a8-4d96-d9c5-0160cb22ae5e"
      },
      "source": [
        "print(X_train.max())\n",
        "print(x_test.max())\n",
        "X_train = X_train/X_train.max()\n",
        "x_test = x_test/x_test.max()\n",
        "print(X_train.max())\n",
        "print(x_test.max())\n"
      ],
      "execution_count": 44,
      "outputs": [
        {
          "output_type": "stream",
          "text": [
            "255\n",
            "255\n",
            "1.0\n",
            "1.0\n"
          ],
          "name": "stdout"
        }
      ]
    },
    {
      "cell_type": "code",
      "metadata": {
        "id": "yJvYE9Po2ori",
        "colab_type": "code",
        "colab": {
          "base_uri": "https://localhost:8080/",
          "height": 34
        },
        "outputId": "9cdeb59e-ace7-4819-8f17-7ed032d99e56"
      },
      "source": [
        "x_test.shape"
      ],
      "execution_count": 45,
      "outputs": [
        {
          "output_type": "execute_result",
          "data": {
            "text/plain": [
              "(10000, 32, 32, 3)"
            ]
          },
          "metadata": {
            "tags": []
          },
          "execution_count": 45
        }
      ]
    },
    {
      "cell_type": "code",
      "metadata": {
        "id": "V-i0CqGkzX4a",
        "colab_type": "code",
        "colab": {
          "base_uri": "https://localhost:8080/",
          "height": 34
        },
        "outputId": "09523e37-83b0-4675-a4c6-e4d366f37dd1"
      },
      "source": [
        "from keras.utils import to_categorical\n",
        "\n",
        "y_cat_test = to_categorical(y_test,10)\n",
        "y_cat_train = to_categorical(y_train,10)\n",
        "\n",
        "y_cat_train.shape\n"
      ],
      "execution_count": 46,
      "outputs": [
        {
          "output_type": "execute_result",
          "data": {
            "text/plain": [
              "(50000, 10)"
            ]
          },
          "metadata": {
            "tags": []
          },
          "execution_count": 46
        }
      ]
    },
    {
      "cell_type": "code",
      "metadata": {
        "id": "zV_kJjVL0BFt",
        "colab_type": "code",
        "colab": {}
      },
      "source": [
        "from keras.models import Sequential\n",
        "from keras.layers import Dense,Conv2D,MaxPool2D,Flatten\n",
        "\n",
        "model = Sequential()\n",
        "model.add(Conv2D(filters = 32,kernel_size = (4,4),input_shape = (32,32,3),activation='relu',))\n",
        "model.add(MaxPool2D(pool_size=(2,2)))\n",
        "\n",
        "model.add(Conv2D(filters = 32,kernel_size = (4,4),input_shape = (32,32,3),activation='relu',))\n",
        "model.add(MaxPool2D(pool_size=(2,2)))\n",
        "\n",
        "model.add(Flatten())\n",
        "\n",
        "model.add(Dense(256,activation='relu'))\n",
        "model.add(Dense(10,activation='softmax'))\n",
        "\n",
        "\n"
      ],
      "execution_count": 47,
      "outputs": []
    },
    {
      "cell_type": "code",
      "metadata": {
        "id": "MRknRGbg1AM2",
        "colab_type": "code",
        "colab": {}
      },
      "source": [
        "\n",
        "model.compile(loss='categorical_crossentropy',\n",
        "              optimizer='rmsprop',\n",
        "              metrics=['accuracy'])"
      ],
      "execution_count": 48,
      "outputs": []
    },
    {
      "cell_type": "code",
      "metadata": {
        "id": "fDsUi83N1Fte",
        "colab_type": "code",
        "colab": {
          "base_uri": "https://localhost:8080/",
          "height": 386
        },
        "outputId": "f8eeedc4-ebc2-4ea9-9d86-ec8b3d98c298"
      },
      "source": [
        "model.summary()"
      ],
      "execution_count": 49,
      "outputs": [
        {
          "output_type": "stream",
          "text": [
            "Model: \"sequential_7\"\n",
            "_________________________________________________________________\n",
            "Layer (type)                 Output Shape              Param #   \n",
            "=================================================================\n",
            "conv2d_8 (Conv2D)            (None, 29, 29, 32)        1568      \n",
            "_________________________________________________________________\n",
            "max_pooling2d_8 (MaxPooling2 (None, 14, 14, 32)        0         \n",
            "_________________________________________________________________\n",
            "conv2d_9 (Conv2D)            (None, 11, 11, 32)        16416     \n",
            "_________________________________________________________________\n",
            "max_pooling2d_9 (MaxPooling2 (None, 5, 5, 32)          0         \n",
            "_________________________________________________________________\n",
            "flatten_2 (Flatten)          (None, 800)               0         \n",
            "_________________________________________________________________\n",
            "dense_6 (Dense)              (None, 256)               205056    \n",
            "_________________________________________________________________\n",
            "dense_7 (Dense)              (None, 10)                2570      \n",
            "=================================================================\n",
            "Total params: 225,610\n",
            "Trainable params: 225,610\n",
            "Non-trainable params: 0\n",
            "_________________________________________________________________\n"
          ],
          "name": "stdout"
        }
      ]
    },
    {
      "cell_type": "code",
      "metadata": {
        "id": "umr1LoAF15Rn",
        "colab_type": "code",
        "colab": {
          "base_uri": "https://localhost:8080/",
          "height": 706
        },
        "outputId": "828c7f0e-7b6d-424c-c020-491f6fb4d2dc"
      },
      "source": [
        "model.fit(X_train,y_cat_train,epochs = 20)"
      ],
      "execution_count": 50,
      "outputs": [
        {
          "output_type": "stream",
          "text": [
            "Epoch 1/20\n",
            "1563/1563 [==============================] - 58s 37ms/step - loss: 1.5365 - accuracy: 0.4499\n",
            "Epoch 2/20\n",
            "1563/1563 [==============================] - 57s 37ms/step - loss: 1.1680 - accuracy: 0.5893\n",
            "Epoch 3/20\n",
            "1563/1563 [==============================] - 57s 37ms/step - loss: 1.0140 - accuracy: 0.6474\n",
            "Epoch 4/20\n",
            "1563/1563 [==============================] - 58s 37ms/step - loss: 0.9083 - accuracy: 0.6856\n",
            "Epoch 5/20\n",
            "1563/1563 [==============================] - 57s 37ms/step - loss: 0.8293 - accuracy: 0.7142\n",
            "Epoch 6/20\n",
            "1563/1563 [==============================] - 59s 38ms/step - loss: 0.7630 - accuracy: 0.7411\n",
            "Epoch 7/20\n",
            "1563/1563 [==============================] - 57s 37ms/step - loss: 0.7151 - accuracy: 0.7564\n",
            "Epoch 8/20\n",
            "1563/1563 [==============================] - 57s 37ms/step - loss: 0.6668 - accuracy: 0.7742\n",
            "Epoch 9/20\n",
            "1563/1563 [==============================] - 57s 37ms/step - loss: 0.6369 - accuracy: 0.7838\n",
            "Epoch 10/20\n",
            "1563/1563 [==============================] - 56s 36ms/step - loss: 0.5986 - accuracy: 0.7976\n",
            "Epoch 11/20\n",
            "1563/1563 [==============================] - 56s 36ms/step - loss: 0.5692 - accuracy: 0.8074\n",
            "Epoch 12/20\n",
            "1563/1563 [==============================] - 57s 36ms/step - loss: 0.5448 - accuracy: 0.8173\n",
            "Epoch 13/20\n",
            "1563/1563 [==============================] - 56s 36ms/step - loss: 0.5242 - accuracy: 0.8243\n",
            "Epoch 14/20\n",
            "1563/1563 [==============================] - 56s 36ms/step - loss: 0.5081 - accuracy: 0.8293\n",
            "Epoch 15/20\n",
            "1563/1563 [==============================] - 57s 37ms/step - loss: 0.4913 - accuracy: 0.8377\n",
            "Epoch 16/20\n",
            "1563/1563 [==============================] - 56s 36ms/step - loss: 0.4757 - accuracy: 0.8423\n",
            "Epoch 17/20\n",
            "1563/1563 [==============================] - 58s 37ms/step - loss: 0.4609 - accuracy: 0.8476\n",
            "Epoch 18/20\n",
            "1563/1563 [==============================] - 56s 36ms/step - loss: 0.4449 - accuracy: 0.8532\n",
            "Epoch 19/20\n",
            "1563/1563 [==============================] - 56s 36ms/step - loss: 0.4340 - accuracy: 0.8566\n",
            "Epoch 20/20\n",
            "1563/1563 [==============================] - 57s 36ms/step - loss: 0.4314 - accuracy: 0.8605\n"
          ],
          "name": "stdout"
        },
        {
          "output_type": "execute_result",
          "data": {
            "text/plain": [
              "<tensorflow.python.keras.callbacks.History at 0x7fbdaf964780>"
            ]
          },
          "metadata": {
            "tags": []
          },
          "execution_count": 50
        }
      ]
    },
    {
      "cell_type": "code",
      "metadata": {
        "id": "ect-P7YP740s",
        "colab_type": "code",
        "colab": {
          "base_uri": "https://localhost:8080/",
          "height": 34
        },
        "outputId": "a1a95bd0-5277-4091-8da6-34558da5b707"
      },
      "source": [
        "model.metrics_names"
      ],
      "execution_count": 52,
      "outputs": [
        {
          "output_type": "execute_result",
          "data": {
            "text/plain": [
              "['loss', 'accuracy']"
            ]
          },
          "metadata": {
            "tags": []
          },
          "execution_count": 52
        }
      ]
    },
    {
      "cell_type": "code",
      "metadata": {
        "id": "QXXrEXLx-kem",
        "colab_type": "code",
        "colab": {
          "base_uri": "https://localhost:8080/",
          "height": 50
        },
        "outputId": "2de32b47-6b51-4c36-8d0c-56a968e69d5c"
      },
      "source": [
        "model.evaluate(x_test,y_cat_test)"
      ],
      "execution_count": 54,
      "outputs": [
        {
          "output_type": "stream",
          "text": [
            "313/313 [==============================] - 3s 11ms/step - loss: 1.4917 - accuracy: 0.6370\n"
          ],
          "name": "stdout"
        },
        {
          "output_type": "execute_result",
          "data": {
            "text/plain": [
              "[1.4916824102401733, 0.6370000243186951]"
            ]
          },
          "metadata": {
            "tags": []
          },
          "execution_count": 54
        }
      ]
    },
    {
      "cell_type": "code",
      "metadata": {
        "id": "eiECxwBZ-uMd",
        "colab_type": "code",
        "colab": {
          "base_uri": "https://localhost:8080/",
          "height": 87
        },
        "outputId": "8b34f91a-0c8b-4e66-8b03-381c47811317"
      },
      "source": [
        "from sklearn.metrics import classification_report\n",
        "\n",
        "predictions = model.predict_classes(x_test)"
      ],
      "execution_count": 55,
      "outputs": [
        {
          "output_type": "stream",
          "text": [
            "WARNING:tensorflow:From <ipython-input-55-0cfb96d16c20>:3: Sequential.predict_classes (from tensorflow.python.keras.engine.sequential) is deprecated and will be removed after 2021-01-01.\n",
            "Instructions for updating:\n",
            "Please use instead:* `np.argmax(model.predict(x), axis=-1)`,   if your model does multi-class classification   (e.g. if it uses a `softmax` last-layer activation).* `(model.predict(x) > 0.5).astype(\"int32\")`,   if your model does binary classification   (e.g. if it uses a `sigmoid` last-layer activation).\n"
          ],
          "name": "stdout"
        }
      ]
    },
    {
      "cell_type": "code",
      "metadata": {
        "id": "aYxGl2X0-8fm",
        "colab_type": "code",
        "colab": {
          "base_uri": "https://localhost:8080/",
          "height": 302
        },
        "outputId": "1802b1cb-cd56-434c-f54a-eb145bc5a1f9"
      },
      "source": [
        "print(classification_report(y_test,predictions))"
      ],
      "execution_count": 56,
      "outputs": [
        {
          "output_type": "stream",
          "text": [
            "              precision    recall  f1-score   support\n",
            "\n",
            "           0       0.67      0.70      0.68      1000\n",
            "           1       0.87      0.68      0.76      1000\n",
            "           2       0.57      0.48      0.52      1000\n",
            "           3       0.48      0.36      0.41      1000\n",
            "           4       0.52      0.66      0.58      1000\n",
            "           5       0.59      0.50      0.54      1000\n",
            "           6       0.54      0.87      0.67      1000\n",
            "           7       0.67      0.70      0.68      1000\n",
            "           8       0.78      0.75      0.76      1000\n",
            "           9       0.79      0.67      0.72      1000\n",
            "\n",
            "    accuracy                           0.64     10000\n",
            "   macro avg       0.65      0.64      0.63     10000\n",
            "weighted avg       0.65      0.64      0.63     10000\n",
            "\n"
          ],
          "name": "stdout"
        }
      ]
    }
  ]
}